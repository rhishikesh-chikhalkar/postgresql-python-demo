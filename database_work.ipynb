{
 "cells": [
  {
   "cell_type": "code",
   "execution_count": null,
   "metadata": {},
   "outputs": [],
   "source": [
    "import psycopg2\n",
    "from psycopg2 import DatabaseError\n",
    "\n",
    "import db_config\n"
   ]
  },
  {
   "cell_type": "code",
   "execution_count": null,
   "metadata": {},
   "outputs": [],
   "source": [
    "\"\"\"DB functions for select, insert and delete.\"\"\"\n",
    "\n",
    "\n",
    "def db_select(sql_scripts_path):\n",
    "    records = None\n",
    "    try:\n",
    "        select_query = open(f\"{sql_scripts_path}select_row_query.sql\").read()\n",
    "        print(select_query)\n",
    "        conn_cursor = db_config.db_connect()\n",
    "        conn = conn_cursor[0]\n",
    "        cursor = conn_cursor[1]\n",
    "        cursor.execute(select_query)\n",
    "        records = cursor.fetchall()\n",
    "        print(f\"Total number of rows in table: {cursor.rowcount}\")\n",
    "    except (Exception, psycopg2.DatabaseError) as error:\n",
    "        print(error)\n",
    "    return records\n",
    "\n",
    "\n",
    "def db_insert(sql_scripts_path, user_name, password):\n",
    "    try:\n",
    "        insert_query = open(f\"{sql_scripts_path}insert_row_query.sql\", \"r\").read()\n",
    "        insert_query = insert_query.replace(\"db_user_name\", user_name)\n",
    "        insert_query = insert_query.replace(\"db_password\", password)\n",
    "        print(insert_query)\n",
    "        conn_cursor = db_config.db_connect()\n",
    "        conn = conn_cursor[0]\n",
    "        cursor = conn_cursor[1]\n",
    "        cursor.execute(insert_query)\n",
    "        conn.commit()\n",
    "    except (Exception, psycopg2.DatabaseError) as error:\n",
    "        print(error)\n",
    "\n",
    "\n",
    "def db_delete_row(sql_scripts_path, user_name):\n",
    "    try:\n",
    "        delete_query = open(f\"{sql_scripts_path}delete_specific_row.sql\", \"r\").read()\n",
    "        delete_query = delete_query.replace(\"db_user_name\", user_name)\n",
    "        print(delete_query)\n",
    "        conn_cursor = db_config.db_connect()\n",
    "        conn = conn_cursor[0]\n",
    "        cursor = conn_cursor[1]\n",
    "        cursor.execute(delete_query)\n",
    "        conn.commit()\n",
    "    except (Exception, psycopg2.DatabaseError) as error:\n",
    "        print(error)\n"
   ]
  },
  {
   "cell_type": "code",
   "execution_count": null,
   "metadata": {},
   "outputs": [],
   "source": [
    "# SQL Scripts path where queries are stored\n",
    "sql_scripts_path = \"./sql_scripts/\"\n",
    "\n",
    "\"\"\"Main function.\"\"\"\n",
    "\n",
    "\n",
    "def main():\n",
    "    '''Insert record.'''\n",
    "    db_insert(sql_scripts_path, \"rhishikesh\", \"rhishi123\")\n",
    "    \n",
    "    '''Select Record'''\n",
    "    records = db_select(sql_scripts_path)\n",
    "    print(records)\n",
    "    \n",
    "    '''Delete record.'''\n",
    "    db_delete_row(sql_scripts_path, 'rhishikesh')\n",
    "    \n",
    "    records = db_select(sql_scripts_path)\n",
    "    print(records)\n",
    "\n",
    "\n",
    "if __name__ == \"__main__\":\n",
    "    main()\n"
   ]
  },
  {
   "cell_type": "code",
   "execution_count": null,
   "metadata": {},
   "outputs": [],
   "source": []
  }
 ],
 "metadata": {
  "kernelspec": {
   "display_name": "Python 3.9.13 ('venv': venv)",
   "language": "python",
   "name": "python3"
  },
  "language_info": {
   "codemirror_mode": {
    "name": "ipython",
    "version": 3
   },
   "file_extension": ".py",
   "mimetype": "text/x-python",
   "name": "python",
   "nbconvert_exporter": "python",
   "pygments_lexer": "ipython3",
   "version": "3.9.13"
  },
  "orig_nbformat": 4,
  "vscode": {
   "interpreter": {
    "hash": "68e9bfebdb021453e5f3a03fe7b421a070c74c82153c5238e15dda8a3d08e497"
   }
  }
 },
 "nbformat": 4,
 "nbformat_minor": 2
}
